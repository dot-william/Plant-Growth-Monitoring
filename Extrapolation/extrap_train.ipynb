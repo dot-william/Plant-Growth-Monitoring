{
 "cells": [
  {
   "cell_type": "code",
   "execution_count": 9,
   "id": "b52d7c9d-ea14-4386-a095-2107f1e43c08",
   "metadata": {},
   "outputs": [],
   "source": [
    "import pandas as pd\n",
    "import numpy as np\n",
    "import matplotlib.pyplot as plt\n",
    "\n",
    "from sklearn.preprocessing import MinMaxScaler"
   ]
  },
  {
   "cell_type": "markdown",
   "id": "e81d150a-7015-40eb-b0a3-746e79f9f468",
   "metadata": {},
   "source": [
    "## variables to predict\n",
    "1. soil moisture\n",
    "2. solution pH"
   ]
  },
  {
   "cell_type": "code",
   "execution_count": 10,
   "id": "2e7baffe-f800-483b-92ec-e5a83031b62d",
   "metadata": {},
   "outputs": [
    {
     "data": {
      "text/html": [
       "<div>\n",
       "<style scoped>\n",
       "    .dataframe tbody tr th:only-of-type {\n",
       "        vertical-align: middle;\n",
       "    }\n",
       "\n",
       "    .dataframe tbody tr th {\n",
       "        vertical-align: top;\n",
       "    }\n",
       "\n",
       "    .dataframe thead th {\n",
       "        text-align: right;\n",
       "    }\n",
       "</style>\n",
       "<table border=\"1\" class=\"dataframe\">\n",
       "  <thead>\n",
       "    <tr style=\"text-align: right;\">\n",
       "      <th></th>\n",
       "      <th>datetime</th>\n",
       "      <th>type</th>\n",
       "      <th>index</th>\n",
       "      <th>value</th>\n",
       "    </tr>\n",
       "  </thead>\n",
       "  <tbody>\n",
       "    <tr>\n",
       "      <th>0</th>\n",
       "      <td>02/14/2023 20:30</td>\n",
       "      <td>temperature</td>\n",
       "      <td>0</td>\n",
       "      <td>28.60</td>\n",
       "    </tr>\n",
       "    <tr>\n",
       "      <th>1</th>\n",
       "      <td>02/14/2023 20:30</td>\n",
       "      <td>humidity</td>\n",
       "      <td>0</td>\n",
       "      <td>55.20</td>\n",
       "    </tr>\n",
       "    <tr>\n",
       "      <th>2</th>\n",
       "      <td>02/14/2023 20:30</td>\n",
       "      <td>temperature</td>\n",
       "      <td>1</td>\n",
       "      <td>29.20</td>\n",
       "    </tr>\n",
       "    <tr>\n",
       "      <th>3</th>\n",
       "      <td>02/14/2023 20:30</td>\n",
       "      <td>humidity</td>\n",
       "      <td>1</td>\n",
       "      <td>62.60</td>\n",
       "    </tr>\n",
       "    <tr>\n",
       "      <th>4</th>\n",
       "      <td>02/14/2023 20:30</td>\n",
       "      <td>light_intensity</td>\n",
       "      <td>0</td>\n",
       "      <td>378.75</td>\n",
       "    </tr>\n",
       "  </tbody>\n",
       "</table>\n",
       "</div>"
      ],
      "text/plain": [
       "           datetime             type  index   value\n",
       "0  02/14/2023 20:30      temperature      0   28.60\n",
       "1  02/14/2023 20:30         humidity      0   55.20\n",
       "2  02/14/2023 20:30      temperature      1   29.20\n",
       "3  02/14/2023 20:30         humidity      1   62.60\n",
       "4  02/14/2023 20:30  light_intensity      0  378.75"
      ]
     },
     "execution_count": 10,
     "metadata": {},
     "output_type": "execute_result"
    }
   ],
   "source": [
    "columns=['datetime', 'expt_num', 'sitename', 'type', 'index', 'value']\n",
    "\n",
    "df = pd.read_csv(\"Large_sensors.csv\", names=columns)\n",
    "\n",
    "try:\n",
    "    df.drop(['expt_num', 'sitename'], axis=1, inplace=True)\n",
    "\n",
    "except:\n",
    "    print(\"Already dropped\")\n",
    "    \n",
    "df.head()"
   ]
  },
  {
   "cell_type": "code",
   "execution_count": 11,
   "id": "be6b534c-055e-4cc5-8742-be4121d0b630",
   "metadata": {},
   "outputs": [
    {
     "data": {
      "text/plain": [
       "light_intensity    5886\n",
       "soil_moisture      5886\n",
       "temperature        1308\n",
       "humidity           1308\n",
       "solution_pH         654\n",
       "solution_EC         654\n",
       "Name: type, dtype: int64"
      ]
     },
     "execution_count": 11,
     "metadata": {},
     "output_type": "execute_result"
    }
   ],
   "source": [
    "df['type'].value_counts()"
   ]
  },
  {
   "cell_type": "code",
   "execution_count": 12,
   "id": "559cfab2-0164-4421-8262-490429bb06e1",
   "metadata": {},
   "outputs": [
    {
     "data": {
      "text/plain": [
       "array(['temperature', 'humidity', 'light_intensity', 'soil_moisture',\n",
       "       'solution_pH', 'solution_EC'], dtype=object)"
      ]
     },
     "execution_count": 12,
     "metadata": {},
     "output_type": "execute_result"
    }
   ],
   "source": [
    "sensor_types = pd.unique(df['type'])\n",
    "sensor_types"
   ]
  },
  {
   "cell_type": "code",
   "execution_count": 13,
   "id": "889f4419-5213-4b30-9c84-89eaad258df5",
   "metadata": {},
   "outputs": [
    {
     "name": "stdout",
     "output_type": "stream",
     "text": [
      "temperature: 2.00 sensors\n",
      "humidity: 2.00 sensors\n",
      "light_intensity: 9.00 sensors\n",
      "soil_moisture: 9.00 sensors\n",
      "solution_pH: 1.00 sensors\n",
      "solution_EC: 1.00 sensors\n"
     ]
    }
   ],
   "source": [
    "DATA_PER_SENSOR = sum(df['type'] == 'solution_pH')\n",
    "\n",
    "for type in sensor_types:\n",
    "    mask = df['type'] == type\n",
    "    print(f\"{type}: {df[mask].shape[0] / DATA_PER_SENSOR:.2f} sensors\")"
   ]
  },
  {
   "cell_type": "code",
   "execution_count": 14,
   "id": "f410a3bc-3a1e-46eb-ba50-0145fa20c6d2",
   "metadata": {},
   "outputs": [
    {
     "name": "stdout",
     "output_type": "stream",
     "text": [
      "temperature_0: 1 nan values\n",
      "temperature_1: 0 nan values\n",
      "humidity_0: 1 nan values\n",
      "humidity_1: 0 nan values\n",
      "light_intensity_0: 547 nan values\n",
      "light_intensity_1: 158 nan values\n",
      "light_intensity_2: 158 nan values\n",
      "light_intensity_3: 189 nan values\n",
      "light_intensity_4: 158 nan values\n",
      "light_intensity_5: 158 nan values\n",
      "light_intensity_6: 547 nan values\n",
      "light_intensity_7: 654 nan values\n",
      "light_intensity_8: 473 nan values\n",
      "soil_moisture_0: 0 nan values\n",
      "soil_moisture_1: 0 nan values\n",
      "soil_moisture_2: 0 nan values\n",
      "soil_moisture_3: 0 nan values\n",
      "soil_moisture_4: 0 nan values\n",
      "soil_moisture_5: 0 nan values\n",
      "soil_moisture_6: 0 nan values\n",
      "soil_moisture_7: 0 nan values\n",
      "soil_moisture_8: 0 nan values\n",
      "solution_pH_0: 0 nan values\n",
      "solution_EC_0: 0 nan values\n"
     ]
    }
   ],
   "source": [
    "sensor_dict = {}\n",
    "for typ in sensor_types:\n",
    "    _sensor = df.loc[df['type'] == typ] # select what type of sensor\n",
    "    \n",
    "    for ind in pd.unique(_sensor['index']): # select ith sensor\n",
    "        sensor_dict[f'{typ}_{ind}'] = _sensor.loc[_sensor['index'] == ind]['value'].values\n",
    "        print(f\"{typ}_{ind}: {_sensor.loc[_sensor['index'] == ind]['value'].isna().sum()} nan values\")"
   ]
  },
  {
   "cell_type": "code",
   "execution_count": 15,
   "id": "ca3b6d31-a199-4c65-a1bd-b1643e973f7f",
   "metadata": {},
   "outputs": [
    {
     "data": {
      "text/html": [
       "<div>\n",
       "<style scoped>\n",
       "    .dataframe tbody tr th:only-of-type {\n",
       "        vertical-align: middle;\n",
       "    }\n",
       "\n",
       "    .dataframe tbody tr th {\n",
       "        vertical-align: top;\n",
       "    }\n",
       "\n",
       "    .dataframe thead th {\n",
       "        text-align: right;\n",
       "    }\n",
       "</style>\n",
       "<table border=\"1\" class=\"dataframe\">\n",
       "  <thead>\n",
       "    <tr style=\"text-align: right;\">\n",
       "      <th></th>\n",
       "      <th>temperature_0</th>\n",
       "      <th>temperature_1</th>\n",
       "      <th>humidity_0</th>\n",
       "      <th>humidity_1</th>\n",
       "      <th>light_intensity_0</th>\n",
       "      <th>light_intensity_1</th>\n",
       "      <th>light_intensity_2</th>\n",
       "      <th>light_intensity_3</th>\n",
       "      <th>light_intensity_4</th>\n",
       "      <th>light_intensity_5</th>\n",
       "      <th>...</th>\n",
       "      <th>soil_moisture_1</th>\n",
       "      <th>soil_moisture_2</th>\n",
       "      <th>soil_moisture_3</th>\n",
       "      <th>soil_moisture_4</th>\n",
       "      <th>soil_moisture_5</th>\n",
       "      <th>soil_moisture_6</th>\n",
       "      <th>soil_moisture_7</th>\n",
       "      <th>soil_moisture_8</th>\n",
       "      <th>solution_pH_0</th>\n",
       "      <th>solution_EC_0</th>\n",
       "    </tr>\n",
       "  </thead>\n",
       "  <tbody>\n",
       "    <tr>\n",
       "      <th>0</th>\n",
       "      <td>28.6</td>\n",
       "      <td>29.2</td>\n",
       "      <td>55.2</td>\n",
       "      <td>62.6</td>\n",
       "      <td>378.750000</td>\n",
       "      <td>221.666667</td>\n",
       "      <td>104.583333</td>\n",
       "      <td>800.000000</td>\n",
       "      <td>153.333333</td>\n",
       "      <td>274.583333</td>\n",
       "      <td>...</td>\n",
       "      <td>1.0</td>\n",
       "      <td>1.0</td>\n",
       "      <td>1.0</td>\n",
       "      <td>1.0</td>\n",
       "      <td>1.0</td>\n",
       "      <td>1.0</td>\n",
       "      <td>0.858418</td>\n",
       "      <td>1.000000</td>\n",
       "      <td>3.238167</td>\n",
       "      <td>2.628156</td>\n",
       "    </tr>\n",
       "    <tr>\n",
       "      <th>1</th>\n",
       "      <td>28.2</td>\n",
       "      <td>25.5</td>\n",
       "      <td>56.3</td>\n",
       "      <td>61.1</td>\n",
       "      <td>380.416667</td>\n",
       "      <td>222.083333</td>\n",
       "      <td>104.166667</td>\n",
       "      <td>800.416667</td>\n",
       "      <td>154.583333</td>\n",
       "      <td>275.000000</td>\n",
       "      <td>...</td>\n",
       "      <td>1.0</td>\n",
       "      <td>1.0</td>\n",
       "      <td>1.0</td>\n",
       "      <td>1.0</td>\n",
       "      <td>1.0</td>\n",
       "      <td>1.0</td>\n",
       "      <td>0.845923</td>\n",
       "      <td>1.000000</td>\n",
       "      <td>3.237843</td>\n",
       "      <td>2.447942</td>\n",
       "    </tr>\n",
       "    <tr>\n",
       "      <th>2</th>\n",
       "      <td>27.8</td>\n",
       "      <td>25.5</td>\n",
       "      <td>58.1</td>\n",
       "      <td>63.6</td>\n",
       "      <td>401.250000</td>\n",
       "      <td>223.333333</td>\n",
       "      <td>104.583333</td>\n",
       "      <td>804.583333</td>\n",
       "      <td>155.833333</td>\n",
       "      <td>290.416667</td>\n",
       "      <td>...</td>\n",
       "      <td>1.0</td>\n",
       "      <td>1.0</td>\n",
       "      <td>1.0</td>\n",
       "      <td>1.0</td>\n",
       "      <td>1.0</td>\n",
       "      <td>1.0</td>\n",
       "      <td>0.838021</td>\n",
       "      <td>1.000000</td>\n",
       "      <td>3.237111</td>\n",
       "      <td>2.416456</td>\n",
       "    </tr>\n",
       "    <tr>\n",
       "      <th>3</th>\n",
       "      <td>24.7</td>\n",
       "      <td>24.7</td>\n",
       "      <td>70.2</td>\n",
       "      <td>73.8</td>\n",
       "      <td>0.416667</td>\n",
       "      <td>0.000000</td>\n",
       "      <td>0.000000</td>\n",
       "      <td>0.000000</td>\n",
       "      <td>0.000000</td>\n",
       "      <td>0.000000</td>\n",
       "      <td>...</td>\n",
       "      <td>1.0</td>\n",
       "      <td>1.0</td>\n",
       "      <td>1.0</td>\n",
       "      <td>1.0</td>\n",
       "      <td>1.0</td>\n",
       "      <td>1.0</td>\n",
       "      <td>0.681829</td>\n",
       "      <td>0.951766</td>\n",
       "      <td>3.230280</td>\n",
       "      <td>0.828667</td>\n",
       "    </tr>\n",
       "    <tr>\n",
       "      <th>4</th>\n",
       "      <td>24.4</td>\n",
       "      <td>25.2</td>\n",
       "      <td>71.2</td>\n",
       "      <td>72.2</td>\n",
       "      <td>417.916667</td>\n",
       "      <td>230.000000</td>\n",
       "      <td>112.083333</td>\n",
       "      <td>831.666667</td>\n",
       "      <td>175.000000</td>\n",
       "      <td>300.416667</td>\n",
       "      <td>...</td>\n",
       "      <td>1.0</td>\n",
       "      <td>1.0</td>\n",
       "      <td>1.0</td>\n",
       "      <td>1.0</td>\n",
       "      <td>1.0</td>\n",
       "      <td>1.0</td>\n",
       "      <td>0.722071</td>\n",
       "      <td>1.000000</td>\n",
       "      <td>3.237111</td>\n",
       "      <td>0.818954</td>\n",
       "    </tr>\n",
       "  </tbody>\n",
       "</table>\n",
       "<p>5 rows × 24 columns</p>\n",
       "</div>"
      ],
      "text/plain": [
       "   temperature_0  temperature_1  humidity_0  humidity_1  light_intensity_0  \\\n",
       "0           28.6           29.2        55.2        62.6         378.750000   \n",
       "1           28.2           25.5        56.3        61.1         380.416667   \n",
       "2           27.8           25.5        58.1        63.6         401.250000   \n",
       "3           24.7           24.7        70.2        73.8           0.416667   \n",
       "4           24.4           25.2        71.2        72.2         417.916667   \n",
       "\n",
       "   light_intensity_1  light_intensity_2  light_intensity_3  light_intensity_4  \\\n",
       "0         221.666667         104.583333         800.000000         153.333333   \n",
       "1         222.083333         104.166667         800.416667         154.583333   \n",
       "2         223.333333         104.583333         804.583333         155.833333   \n",
       "3           0.000000           0.000000           0.000000           0.000000   \n",
       "4         230.000000         112.083333         831.666667         175.000000   \n",
       "\n",
       "   light_intensity_5  ...  soil_moisture_1  soil_moisture_2  soil_moisture_3  \\\n",
       "0         274.583333  ...              1.0              1.0              1.0   \n",
       "1         275.000000  ...              1.0              1.0              1.0   \n",
       "2         290.416667  ...              1.0              1.0              1.0   \n",
       "3           0.000000  ...              1.0              1.0              1.0   \n",
       "4         300.416667  ...              1.0              1.0              1.0   \n",
       "\n",
       "   soil_moisture_4  soil_moisture_5  soil_moisture_6  soil_moisture_7  \\\n",
       "0              1.0              1.0              1.0         0.858418   \n",
       "1              1.0              1.0              1.0         0.845923   \n",
       "2              1.0              1.0              1.0         0.838021   \n",
       "3              1.0              1.0              1.0         0.681829   \n",
       "4              1.0              1.0              1.0         0.722071   \n",
       "\n",
       "   soil_moisture_8  solution_pH_0  solution_EC_0  \n",
       "0         1.000000       3.238167       2.628156  \n",
       "1         1.000000       3.237843       2.447942  \n",
       "2         1.000000       3.237111       2.416456  \n",
       "3         0.951766       3.230280       0.828667  \n",
       "4         1.000000       3.237111       0.818954  \n",
       "\n",
       "[5 rows x 24 columns]"
      ]
     },
     "execution_count": 15,
     "metadata": {},
     "output_type": "execute_result"
    }
   ],
   "source": [
    "#sensor_df = pd.DataFrame.from_dict(data=sensor_dict)\n",
    "# since the dict values dont have equal length, use this instead\n",
    "sensor_df = pd.DataFrame(dict([ (k,pd.Series(v)) for k,v in sensor_dict.items() ]))\n",
    "sensor_df.head() # check first 5 rows"
   ]
  },
  {
   "cell_type": "code",
   "execution_count": 16,
   "id": "c1de24e9-6e2a-4487-aaa8-fef68855e277",
   "metadata": {},
   "outputs": [
    {
     "data": {
      "text/plain": [
       "0     NaN\n",
       "1     NaN\n",
       "2     NaN\n",
       "3     NaN\n",
       "4     NaN\n",
       "       ..\n",
       "649   NaN\n",
       "650   NaN\n",
       "651   NaN\n",
       "652   NaN\n",
       "653   NaN\n",
       "Name: light_intensity_7, Length: 654, dtype: float64"
      ]
     },
     "execution_count": 16,
     "metadata": {},
     "output_type": "execute_result"
    }
   ],
   "source": [
    "sensor_df.pop('light_intensity_7') # drop column containing all NaNs"
   ]
  },
  {
   "cell_type": "code",
   "execution_count": 17,
   "id": "04abdf40-46cc-4cad-bd9e-05985b14a280",
   "metadata": {},
   "outputs": [
    {
     "data": {
      "text/html": [
       "<div>\n",
       "<style scoped>\n",
       "    .dataframe tbody tr th:only-of-type {\n",
       "        vertical-align: middle;\n",
       "    }\n",
       "\n",
       "    .dataframe tbody tr th {\n",
       "        vertical-align: top;\n",
       "    }\n",
       "\n",
       "    .dataframe thead th {\n",
       "        text-align: right;\n",
       "    }\n",
       "</style>\n",
       "<table border=\"1\" class=\"dataframe\">\n",
       "  <thead>\n",
       "    <tr style=\"text-align: right;\">\n",
       "      <th></th>\n",
       "      <th>temperature_0</th>\n",
       "      <th>humidity_0</th>\n",
       "      <th>light_intensity_0</th>\n",
       "      <th>light_intensity_1</th>\n",
       "      <th>light_intensity_2</th>\n",
       "      <th>light_intensity_3</th>\n",
       "      <th>light_intensity_4</th>\n",
       "      <th>light_intensity_5</th>\n",
       "      <th>light_intensity_6</th>\n",
       "      <th>light_intensity_8</th>\n",
       "    </tr>\n",
       "  </thead>\n",
       "  <tbody>\n",
       "    <tr>\n",
       "      <th>0</th>\n",
       "      <td>28.6</td>\n",
       "      <td>55.2</td>\n",
       "      <td>378.750000</td>\n",
       "      <td>221.666667</td>\n",
       "      <td>104.583333</td>\n",
       "      <td>800.000000</td>\n",
       "      <td>153.333333</td>\n",
       "      <td>274.583333</td>\n",
       "      <td>865.833333</td>\n",
       "      <td>415.833333</td>\n",
       "    </tr>\n",
       "    <tr>\n",
       "      <th>1</th>\n",
       "      <td>28.2</td>\n",
       "      <td>56.3</td>\n",
       "      <td>380.416667</td>\n",
       "      <td>222.083333</td>\n",
       "      <td>104.166667</td>\n",
       "      <td>800.416667</td>\n",
       "      <td>154.583333</td>\n",
       "      <td>275.000000</td>\n",
       "      <td>870.000000</td>\n",
       "      <td>417.500000</td>\n",
       "    </tr>\n",
       "    <tr>\n",
       "      <th>2</th>\n",
       "      <td>27.8</td>\n",
       "      <td>58.1</td>\n",
       "      <td>401.250000</td>\n",
       "      <td>223.333333</td>\n",
       "      <td>104.583333</td>\n",
       "      <td>804.583333</td>\n",
       "      <td>155.833333</td>\n",
       "      <td>290.416667</td>\n",
       "      <td>876.666667</td>\n",
       "      <td>419.583333</td>\n",
       "    </tr>\n",
       "    <tr>\n",
       "      <th>3</th>\n",
       "      <td>24.7</td>\n",
       "      <td>70.2</td>\n",
       "      <td>0.416667</td>\n",
       "      <td>0.000000</td>\n",
       "      <td>0.000000</td>\n",
       "      <td>0.000000</td>\n",
       "      <td>0.000000</td>\n",
       "      <td>0.000000</td>\n",
       "      <td>0.000000</td>\n",
       "      <td>0.000000</td>\n",
       "    </tr>\n",
       "    <tr>\n",
       "      <th>4</th>\n",
       "      <td>24.4</td>\n",
       "      <td>71.2</td>\n",
       "      <td>417.916667</td>\n",
       "      <td>230.000000</td>\n",
       "      <td>112.083333</td>\n",
       "      <td>831.666667</td>\n",
       "      <td>175.000000</td>\n",
       "      <td>300.416667</td>\n",
       "      <td>914.583333</td>\n",
       "      <td>475.000000</td>\n",
       "    </tr>\n",
       "    <tr>\n",
       "      <th>...</th>\n",
       "      <td>...</td>\n",
       "      <td>...</td>\n",
       "      <td>...</td>\n",
       "      <td>...</td>\n",
       "      <td>...</td>\n",
       "      <td>...</td>\n",
       "      <td>...</td>\n",
       "      <td>...</td>\n",
       "      <td>...</td>\n",
       "      <td>...</td>\n",
       "    </tr>\n",
       "    <tr>\n",
       "      <th>649</th>\n",
       "      <td>25.9</td>\n",
       "      <td>66.6</td>\n",
       "      <td>NaN</td>\n",
       "      <td>NaN</td>\n",
       "      <td>NaN</td>\n",
       "      <td>NaN</td>\n",
       "      <td>NaN</td>\n",
       "      <td>NaN</td>\n",
       "      <td>NaN</td>\n",
       "      <td>NaN</td>\n",
       "    </tr>\n",
       "    <tr>\n",
       "      <th>650</th>\n",
       "      <td>27.1</td>\n",
       "      <td>62.4</td>\n",
       "      <td>NaN</td>\n",
       "      <td>NaN</td>\n",
       "      <td>NaN</td>\n",
       "      <td>NaN</td>\n",
       "      <td>NaN</td>\n",
       "      <td>NaN</td>\n",
       "      <td>NaN</td>\n",
       "      <td>NaN</td>\n",
       "    </tr>\n",
       "    <tr>\n",
       "      <th>651</th>\n",
       "      <td>27.9</td>\n",
       "      <td>60.3</td>\n",
       "      <td>NaN</td>\n",
       "      <td>NaN</td>\n",
       "      <td>NaN</td>\n",
       "      <td>NaN</td>\n",
       "      <td>NaN</td>\n",
       "      <td>NaN</td>\n",
       "      <td>NaN</td>\n",
       "      <td>NaN</td>\n",
       "    </tr>\n",
       "    <tr>\n",
       "      <th>652</th>\n",
       "      <td>28.9</td>\n",
       "      <td>56.5</td>\n",
       "      <td>NaN</td>\n",
       "      <td>NaN</td>\n",
       "      <td>NaN</td>\n",
       "      <td>NaN</td>\n",
       "      <td>NaN</td>\n",
       "      <td>NaN</td>\n",
       "      <td>NaN</td>\n",
       "      <td>NaN</td>\n",
       "    </tr>\n",
       "    <tr>\n",
       "      <th>653</th>\n",
       "      <td>29.5</td>\n",
       "      <td>55.3</td>\n",
       "      <td>NaN</td>\n",
       "      <td>NaN</td>\n",
       "      <td>NaN</td>\n",
       "      <td>NaN</td>\n",
       "      <td>NaN</td>\n",
       "      <td>NaN</td>\n",
       "      <td>NaN</td>\n",
       "      <td>NaN</td>\n",
       "    </tr>\n",
       "  </tbody>\n",
       "</table>\n",
       "<p>654 rows × 10 columns</p>\n",
       "</div>"
      ],
      "text/plain": [
       "     temperature_0  humidity_0  light_intensity_0  light_intensity_1  \\\n",
       "0             28.6        55.2         378.750000         221.666667   \n",
       "1             28.2        56.3         380.416667         222.083333   \n",
       "2             27.8        58.1         401.250000         223.333333   \n",
       "3             24.7        70.2           0.416667           0.000000   \n",
       "4             24.4        71.2         417.916667         230.000000   \n",
       "..             ...         ...                ...                ...   \n",
       "649           25.9        66.6                NaN                NaN   \n",
       "650           27.1        62.4                NaN                NaN   \n",
       "651           27.9        60.3                NaN                NaN   \n",
       "652           28.9        56.5                NaN                NaN   \n",
       "653           29.5        55.3                NaN                NaN   \n",
       "\n",
       "     light_intensity_2  light_intensity_3  light_intensity_4  \\\n",
       "0           104.583333         800.000000         153.333333   \n",
       "1           104.166667         800.416667         154.583333   \n",
       "2           104.583333         804.583333         155.833333   \n",
       "3             0.000000           0.000000           0.000000   \n",
       "4           112.083333         831.666667         175.000000   \n",
       "..                 ...                ...                ...   \n",
       "649                NaN                NaN                NaN   \n",
       "650                NaN                NaN                NaN   \n",
       "651                NaN                NaN                NaN   \n",
       "652                NaN                NaN                NaN   \n",
       "653                NaN                NaN                NaN   \n",
       "\n",
       "     light_intensity_5  light_intensity_6  light_intensity_8  \n",
       "0           274.583333         865.833333         415.833333  \n",
       "1           275.000000         870.000000         417.500000  \n",
       "2           290.416667         876.666667         419.583333  \n",
       "3             0.000000           0.000000           0.000000  \n",
       "4           300.416667         914.583333         475.000000  \n",
       "..                 ...                ...                ...  \n",
       "649                NaN                NaN                NaN  \n",
       "650                NaN                NaN                NaN  \n",
       "651                NaN                NaN                NaN  \n",
       "652                NaN                NaN                NaN  \n",
       "653                NaN                NaN                NaN  \n",
       "\n",
       "[654 rows x 10 columns]"
      ]
     },
     "execution_count": 17,
     "metadata": {},
     "output_type": "execute_result"
    }
   ],
   "source": [
    "# display rows with nan \n",
    "#sensor_df[sensor_df.isna().any(axis=1)]\n",
    "sensor_df.loc[:, sensor_df.isna().any()]"
   ]
  },
  {
   "cell_type": "code",
   "execution_count": 18,
   "id": "a307ca5a-00f8-492c-8340-5915d5179b80",
   "metadata": {},
   "outputs": [
    {
     "data": {
      "text/html": [
       "<div>\n",
       "<style scoped>\n",
       "    .dataframe tbody tr th:only-of-type {\n",
       "        vertical-align: middle;\n",
       "    }\n",
       "\n",
       "    .dataframe tbody tr th {\n",
       "        vertical-align: top;\n",
       "    }\n",
       "\n",
       "    .dataframe thead th {\n",
       "        text-align: right;\n",
       "    }\n",
       "</style>\n",
       "<table border=\"1\" class=\"dataframe\">\n",
       "  <thead>\n",
       "    <tr style=\"text-align: right;\">\n",
       "      <th></th>\n",
       "      <th>temperature_0</th>\n",
       "      <th>temperature_1</th>\n",
       "      <th>humidity_0</th>\n",
       "      <th>humidity_1</th>\n",
       "      <th>light_intensity_0</th>\n",
       "      <th>light_intensity_1</th>\n",
       "      <th>light_intensity_2</th>\n",
       "      <th>light_intensity_3</th>\n",
       "      <th>light_intensity_4</th>\n",
       "      <th>light_intensity_5</th>\n",
       "      <th>...</th>\n",
       "      <th>soil_moisture_1</th>\n",
       "      <th>soil_moisture_2</th>\n",
       "      <th>soil_moisture_3</th>\n",
       "      <th>soil_moisture_4</th>\n",
       "      <th>soil_moisture_5</th>\n",
       "      <th>soil_moisture_6</th>\n",
       "      <th>soil_moisture_7</th>\n",
       "      <th>soil_moisture_8</th>\n",
       "      <th>solution_pH_0</th>\n",
       "      <th>solution_EC_0</th>\n",
       "    </tr>\n",
       "  </thead>\n",
       "  <tbody>\n",
       "    <tr>\n",
       "      <th>0</th>\n",
       "      <td>28.6</td>\n",
       "      <td>29.2</td>\n",
       "      <td>55.2</td>\n",
       "      <td>62.6</td>\n",
       "      <td>378.750000</td>\n",
       "      <td>221.666667</td>\n",
       "      <td>104.583333</td>\n",
       "      <td>800.000000</td>\n",
       "      <td>153.333333</td>\n",
       "      <td>274.583333</td>\n",
       "      <td>...</td>\n",
       "      <td>1.0</td>\n",
       "      <td>1.0</td>\n",
       "      <td>1.0</td>\n",
       "      <td>1.0</td>\n",
       "      <td>1.0</td>\n",
       "      <td>1.0</td>\n",
       "      <td>0.858418</td>\n",
       "      <td>1.000000</td>\n",
       "      <td>3.238167</td>\n",
       "      <td>2.628156</td>\n",
       "    </tr>\n",
       "    <tr>\n",
       "      <th>1</th>\n",
       "      <td>28.2</td>\n",
       "      <td>25.5</td>\n",
       "      <td>56.3</td>\n",
       "      <td>61.1</td>\n",
       "      <td>380.416667</td>\n",
       "      <td>222.083333</td>\n",
       "      <td>104.166667</td>\n",
       "      <td>800.416667</td>\n",
       "      <td>154.583333</td>\n",
       "      <td>275.000000</td>\n",
       "      <td>...</td>\n",
       "      <td>1.0</td>\n",
       "      <td>1.0</td>\n",
       "      <td>1.0</td>\n",
       "      <td>1.0</td>\n",
       "      <td>1.0</td>\n",
       "      <td>1.0</td>\n",
       "      <td>0.845923</td>\n",
       "      <td>1.000000</td>\n",
       "      <td>3.237843</td>\n",
       "      <td>2.447942</td>\n",
       "    </tr>\n",
       "    <tr>\n",
       "      <th>2</th>\n",
       "      <td>27.8</td>\n",
       "      <td>25.5</td>\n",
       "      <td>58.1</td>\n",
       "      <td>63.6</td>\n",
       "      <td>401.250000</td>\n",
       "      <td>223.333333</td>\n",
       "      <td>104.583333</td>\n",
       "      <td>804.583333</td>\n",
       "      <td>155.833333</td>\n",
       "      <td>290.416667</td>\n",
       "      <td>...</td>\n",
       "      <td>1.0</td>\n",
       "      <td>1.0</td>\n",
       "      <td>1.0</td>\n",
       "      <td>1.0</td>\n",
       "      <td>1.0</td>\n",
       "      <td>1.0</td>\n",
       "      <td>0.838021</td>\n",
       "      <td>1.000000</td>\n",
       "      <td>3.237111</td>\n",
       "      <td>2.416456</td>\n",
       "    </tr>\n",
       "    <tr>\n",
       "      <th>3</th>\n",
       "      <td>24.7</td>\n",
       "      <td>24.7</td>\n",
       "      <td>70.2</td>\n",
       "      <td>73.8</td>\n",
       "      <td>0.416667</td>\n",
       "      <td>0.000000</td>\n",
       "      <td>0.000000</td>\n",
       "      <td>0.000000</td>\n",
       "      <td>0.000000</td>\n",
       "      <td>0.000000</td>\n",
       "      <td>...</td>\n",
       "      <td>1.0</td>\n",
       "      <td>1.0</td>\n",
       "      <td>1.0</td>\n",
       "      <td>1.0</td>\n",
       "      <td>1.0</td>\n",
       "      <td>1.0</td>\n",
       "      <td>0.681829</td>\n",
       "      <td>0.951766</td>\n",
       "      <td>3.230280</td>\n",
       "      <td>0.828667</td>\n",
       "    </tr>\n",
       "    <tr>\n",
       "      <th>4</th>\n",
       "      <td>24.4</td>\n",
       "      <td>25.2</td>\n",
       "      <td>71.2</td>\n",
       "      <td>72.2</td>\n",
       "      <td>417.916667</td>\n",
       "      <td>230.000000</td>\n",
       "      <td>112.083333</td>\n",
       "      <td>831.666667</td>\n",
       "      <td>175.000000</td>\n",
       "      <td>300.416667</td>\n",
       "      <td>...</td>\n",
       "      <td>1.0</td>\n",
       "      <td>1.0</td>\n",
       "      <td>1.0</td>\n",
       "      <td>1.0</td>\n",
       "      <td>1.0</td>\n",
       "      <td>1.0</td>\n",
       "      <td>0.722071</td>\n",
       "      <td>1.000000</td>\n",
       "      <td>3.237111</td>\n",
       "      <td>0.818954</td>\n",
       "    </tr>\n",
       "  </tbody>\n",
       "</table>\n",
       "<p>5 rows × 23 columns</p>\n",
       "</div>"
      ],
      "text/plain": [
       "   temperature_0  temperature_1  humidity_0  humidity_1  light_intensity_0  \\\n",
       "0           28.6           29.2        55.2        62.6         378.750000   \n",
       "1           28.2           25.5        56.3        61.1         380.416667   \n",
       "2           27.8           25.5        58.1        63.6         401.250000   \n",
       "3           24.7           24.7        70.2        73.8           0.416667   \n",
       "4           24.4           25.2        71.2        72.2         417.916667   \n",
       "\n",
       "   light_intensity_1  light_intensity_2  light_intensity_3  light_intensity_4  \\\n",
       "0         221.666667         104.583333         800.000000         153.333333   \n",
       "1         222.083333         104.166667         800.416667         154.583333   \n",
       "2         223.333333         104.583333         804.583333         155.833333   \n",
       "3           0.000000           0.000000           0.000000           0.000000   \n",
       "4         230.000000         112.083333         831.666667         175.000000   \n",
       "\n",
       "   light_intensity_5  ...  soil_moisture_1  soil_moisture_2  soil_moisture_3  \\\n",
       "0         274.583333  ...              1.0              1.0              1.0   \n",
       "1         275.000000  ...              1.0              1.0              1.0   \n",
       "2         290.416667  ...              1.0              1.0              1.0   \n",
       "3           0.000000  ...              1.0              1.0              1.0   \n",
       "4         300.416667  ...              1.0              1.0              1.0   \n",
       "\n",
       "   soil_moisture_4  soil_moisture_5  soil_moisture_6  soil_moisture_7  \\\n",
       "0              1.0              1.0              1.0         0.858418   \n",
       "1              1.0              1.0              1.0         0.845923   \n",
       "2              1.0              1.0              1.0         0.838021   \n",
       "3              1.0              1.0              1.0         0.681829   \n",
       "4              1.0              1.0              1.0         0.722071   \n",
       "\n",
       "   soil_moisture_8  solution_pH_0  solution_EC_0  \n",
       "0         1.000000       3.238167       2.628156  \n",
       "1         1.000000       3.237843       2.447942  \n",
       "2         1.000000       3.237111       2.416456  \n",
       "3         0.951766       3.230280       0.828667  \n",
       "4         1.000000       3.237111       0.818954  \n",
       "\n",
       "[5 rows x 23 columns]"
      ]
     },
     "execution_count": 18,
     "metadata": {},
     "output_type": "execute_result"
    }
   ],
   "source": [
    "sensor_df = sensor_df.interpolate(axis=0)\n",
    "sensor_df.head()"
   ]
  },
  {
   "cell_type": "markdown",
   "id": "bc93c857-aacd-40f0-93f3-66ad14489fdc",
   "metadata": {},
   "source": [
    "## Averaging sensor types"
   ]
  },
  {
   "cell_type": "code",
   "execution_count": 19,
   "id": "d7d72b15-4a08-4eec-a83f-f56c03b267c8",
   "metadata": {},
   "outputs": [
    {
     "ename": "NameError",
     "evalue": "name 'ave_df' is not defined",
     "output_type": "error",
     "traceback": [
      "\u001b[0;31m---------------------------------------------------------------------------\u001b[0m",
      "\u001b[0;31mNameError\u001b[0m                                 Traceback (most recent call last)",
      "\u001b[0;32m/var/folders/_3/_3lvg1mn51l2qnb3z5dd6xyw0000gn/T/ipykernel_28004/1176914114.py\u001b[0m in \u001b[0;36m<module>\u001b[0;34m\u001b[0m\n\u001b[0;32m----> 1\u001b[0;31m \u001b[0mupperbound\u001b[0m \u001b[0;34m=\u001b[0m \u001b[0mave_df\u001b[0m\u001b[0;34m.\u001b[0m\u001b[0mmean\u001b[0m\u001b[0;34m(\u001b[0m\u001b[0;34m)\u001b[0m \u001b[0;34m+\u001b[0m \u001b[0;36m2\u001b[0m\u001b[0;34m*\u001b[0m\u001b[0mave_df\u001b[0m\u001b[0;34m.\u001b[0m\u001b[0mstd\u001b[0m\u001b[0;34m(\u001b[0m\u001b[0;34m)\u001b[0m\u001b[0;34m\u001b[0m\u001b[0;34m\u001b[0m\u001b[0m\n\u001b[0m\u001b[1;32m      2\u001b[0m \u001b[0mlowerbound\u001b[0m \u001b[0;34m=\u001b[0m \u001b[0mave_df\u001b[0m\u001b[0;34m.\u001b[0m\u001b[0mmean\u001b[0m\u001b[0;34m(\u001b[0m\u001b[0;34m)\u001b[0m \u001b[0;34m-\u001b[0m \u001b[0;36m2\u001b[0m\u001b[0;34m*\u001b[0m\u001b[0mave_df\u001b[0m\u001b[0;34m.\u001b[0m\u001b[0mstd\u001b[0m\u001b[0;34m(\u001b[0m\u001b[0;34m)\u001b[0m\u001b[0;34m\u001b[0m\u001b[0;34m\u001b[0m\u001b[0m\n",
      "\u001b[0;31mNameError\u001b[0m: name 'ave_df' is not defined"
     ]
    }
   ],
   "source": [
    "upperbound = ave_df.mean() + 2*ave_df.std()\n",
    "lowerbound = ave_df.mean() - 2*ave_df.std()"
   ]
  },
  {
   "cell_type": "code",
   "execution_count": 20,
   "id": "dae690e9-cced-4806-8565-a9c47c0159a2",
   "metadata": {},
   "outputs": [
    {
     "ename": "NameError",
     "evalue": "name 'ave_df' is not defined",
     "output_type": "error",
     "traceback": [
      "\u001b[0;31m---------------------------------------------------------------------------\u001b[0m",
      "\u001b[0;31mNameError\u001b[0m                                 Traceback (most recent call last)",
      "\u001b[0;32m/var/folders/_3/_3lvg1mn51l2qnb3z5dd6xyw0000gn/T/ipykernel_28004/1940287774.py\u001b[0m in \u001b[0;36m<module>\u001b[0;34m\u001b[0m\n\u001b[0;32m----> 1\u001b[0;31m \u001b[0mave_df\u001b[0m\u001b[0;34m[\u001b[0m\u001b[0;34m(\u001b[0m\u001b[0mave_df\u001b[0m \u001b[0;34m>\u001b[0m \u001b[0mupperbound\u001b[0m\u001b[0;34m)\u001b[0m \u001b[0;34m|\u001b[0m \u001b[0;34m(\u001b[0m\u001b[0mave_df\u001b[0m \u001b[0;34m<\u001b[0m \u001b[0mlowerbound\u001b[0m\u001b[0;34m)\u001b[0m\u001b[0;34m]\u001b[0m\u001b[0;34m\u001b[0m\u001b[0;34m\u001b[0m\u001b[0m\n\u001b[0m",
      "\u001b[0;31mNameError\u001b[0m: name 'ave_df' is not defined"
     ]
    }
   ],
   "source": [
    "ave_df[(ave_df > upperbound) | (ave_df < lowerbound)]"
   ]
  },
  {
   "cell_type": "code",
   "execution_count": 21,
   "id": "1754520d-5534-4169-8289-688f50b5f8e1",
   "metadata": {},
   "outputs": [
    {
     "ename": "NameError",
     "evalue": "name 'ave_df' is not defined",
     "output_type": "error",
     "traceback": [
      "\u001b[0;31m---------------------------------------------------------------------------\u001b[0m",
      "\u001b[0;31mNameError\u001b[0m                                 Traceback (most recent call last)",
      "\u001b[0;32m/var/folders/_3/_3lvg1mn51l2qnb3z5dd6xyw0000gn/T/ipykernel_28004/222713127.py\u001b[0m in \u001b[0;36m<module>\u001b[0;34m\u001b[0m\n\u001b[0;32m----> 1\u001b[0;31m \u001b[0mave_df\u001b[0m\u001b[0;34m.\u001b[0m\u001b[0mshape\u001b[0m\u001b[0;34m\u001b[0m\u001b[0;34m\u001b[0m\u001b[0m\n\u001b[0m",
      "\u001b[0;31mNameError\u001b[0m: name 'ave_df' is not defined"
     ]
    }
   ],
   "source": [
    "ave_df.shape"
   ]
  },
  {
   "cell_type": "code",
   "execution_count": 22,
   "id": "d7453160-40a8-4c97-b689-292e8d626ddd",
   "metadata": {},
   "outputs": [
    {
     "ename": "NameError",
     "evalue": "name 'ave_df' is not defined",
     "output_type": "error",
     "traceback": [
      "\u001b[0;31m---------------------------------------------------------------------------\u001b[0m",
      "\u001b[0;31mNameError\u001b[0m                                 Traceback (most recent call last)",
      "\u001b[0;32m/var/folders/_3/_3lvg1mn51l2qnb3z5dd6xyw0000gn/T/ipykernel_28004/2141013561.py\u001b[0m in \u001b[0;36m<module>\u001b[0;34m\u001b[0m\n\u001b[0;32m----> 1\u001b[0;31m \u001b[0mave_df\u001b[0m\u001b[0;34m.\u001b[0m\u001b[0mmin\u001b[0m\u001b[0;34m(\u001b[0m\u001b[0;34m)\u001b[0m\u001b[0;34m,\u001b[0m \u001b[0mave_df\u001b[0m\u001b[0;34m.\u001b[0m\u001b[0mmax\u001b[0m\u001b[0;34m(\u001b[0m\u001b[0;34m)\u001b[0m\u001b[0;34m\u001b[0m\u001b[0;34m\u001b[0m\u001b[0m\n\u001b[0m",
      "\u001b[0;31mNameError\u001b[0m: name 'ave_df' is not defined"
     ]
    }
   ],
   "source": [
    "ave_df.min(), ave_df.max()"
   ]
  },
  {
   "cell_type": "code",
   "execution_count": 23,
   "id": "820fa7b1-0ae1-468e-946c-0621b7e27a39",
   "metadata": {},
   "outputs": [],
   "source": [
    "temp_cols = [col for col in sensor_df.columns if \"temperature\" in col]\n",
    "humid_cols = [col for col in sensor_df.columns if \"humidity\" in col]\n",
    "li_cols = [col for col in sensor_df.columns if \"light_intensity\" in col]\n",
    "solution_EC = [col for col in sensor_df.columns if \"solution_EC\" in col]\n",
    "\n",
    "ph_cols = [col for col in sensor_df.columns if \"solution_pH\" in col]\n",
    "sm_cols = [col for col in sensor_df.columns if \"soil_moisture\" in col]"
   ]
  },
  {
   "cell_type": "code",
   "execution_count": 24,
   "id": "dfd5979e-e4d9-4fbf-af3b-ffb37f7cad34",
   "metadata": {},
   "outputs": [],
   "source": [
    "ave_list = []\n",
    "\n",
    "temp_ave = sensor_df[temp_cols].mean(axis=1) # apply mean across column wise\n",
    "humid_ave = sensor_df[humid_cols].mean(axis=1)\n",
    "li_ave = sensor_df[li_cols].mean(axis=1)\n",
    "sm_ave = sensor_df[sm_cols].mean(axis=1)\n",
    "\n",
    "ave_list.append(temp_ave)\n",
    "ave_list.append(humid_ave)\n",
    "ave_list.append(li_ave)\n",
    "ave_list.append(sensor_df[solution_EC].squeeze())\n",
    "\n",
    "ave_list.append(sensor_df[ph_cols].squeeze())\n",
    "ave_list.append(sm_ave)"
   ]
  },
  {
   "cell_type": "code",
   "execution_count": 25,
   "id": "c799f777-d1db-44d7-9368-44f6c76d88cd",
   "metadata": {},
   "outputs": [
    {
     "data": {
      "text/html": [
       "<div>\n",
       "<style scoped>\n",
       "    .dataframe tbody tr th:only-of-type {\n",
       "        vertical-align: middle;\n",
       "    }\n",
       "\n",
       "    .dataframe tbody tr th {\n",
       "        vertical-align: top;\n",
       "    }\n",
       "\n",
       "    .dataframe thead th {\n",
       "        text-align: right;\n",
       "    }\n",
       "</style>\n",
       "<table border=\"1\" class=\"dataframe\">\n",
       "  <thead>\n",
       "    <tr style=\"text-align: right;\">\n",
       "      <th></th>\n",
       "      <th>temp_ave</th>\n",
       "      <th>humid_ave</th>\n",
       "      <th>li_ave</th>\n",
       "      <th>EC</th>\n",
       "      <th>ph</th>\n",
       "      <th>sm_ave</th>\n",
       "    </tr>\n",
       "  </thead>\n",
       "  <tbody>\n",
       "    <tr>\n",
       "      <th>0</th>\n",
       "      <td>28.90</td>\n",
       "      <td>58.90</td>\n",
       "      <td>401.822917</td>\n",
       "      <td>2.628156</td>\n",
       "      <td>3.238167</td>\n",
       "      <td>0.984269</td>\n",
       "    </tr>\n",
       "    <tr>\n",
       "      <th>1</th>\n",
       "      <td>26.85</td>\n",
       "      <td>58.70</td>\n",
       "      <td>403.020833</td>\n",
       "      <td>2.447942</td>\n",
       "      <td>3.237843</td>\n",
       "      <td>0.982880</td>\n",
       "    </tr>\n",
       "    <tr>\n",
       "      <th>2</th>\n",
       "      <td>26.65</td>\n",
       "      <td>60.85</td>\n",
       "      <td>409.531250</td>\n",
       "      <td>2.416456</td>\n",
       "      <td>3.237111</td>\n",
       "      <td>0.982002</td>\n",
       "    </tr>\n",
       "    <tr>\n",
       "      <th>3</th>\n",
       "      <td>24.70</td>\n",
       "      <td>72.00</td>\n",
       "      <td>0.052083</td>\n",
       "      <td>0.828667</td>\n",
       "      <td>3.230280</td>\n",
       "      <td>0.959288</td>\n",
       "    </tr>\n",
       "    <tr>\n",
       "      <th>4</th>\n",
       "      <td>24.80</td>\n",
       "      <td>71.70</td>\n",
       "      <td>432.083333</td>\n",
       "      <td>0.818954</td>\n",
       "      <td>3.237111</td>\n",
       "      <td>0.969119</td>\n",
       "    </tr>\n",
       "  </tbody>\n",
       "</table>\n",
       "</div>"
      ],
      "text/plain": [
       "   temp_ave  humid_ave      li_ave        EC        ph    sm_ave\n",
       "0     28.90      58.90  401.822917  2.628156  3.238167  0.984269\n",
       "1     26.85      58.70  403.020833  2.447942  3.237843  0.982880\n",
       "2     26.65      60.85  409.531250  2.416456  3.237111  0.982002\n",
       "3     24.70      72.00    0.052083  0.828667  3.230280  0.959288\n",
       "4     24.80      71.70  432.083333  0.818954  3.237111  0.969119"
      ]
     },
     "execution_count": 25,
     "metadata": {},
     "output_type": "execute_result"
    }
   ],
   "source": [
    "ave_cols = ['temp_ave', 'humid_ave', 'li_ave', 'EC', 'ph', 'sm_ave']\n",
    "\n",
    "ave_dict = {}\n",
    "\n",
    "for k,v in zip(ave_cols, ave_list):\n",
    "    ave_dict[k] = v\n",
    "    \n",
    "\n",
    "ave_df = pd.DataFrame.from_dict(ave_dict)\n",
    "ave_df.head()"
   ]
  },
  {
   "cell_type": "code",
   "execution_count": 26,
   "id": "991ee40d-1a82-4ef5-8578-3ac312650f62",
   "metadata": {},
   "outputs": [
    {
     "data": {
      "text/plain": [
       "[<matplotlib.lines.Line2D at 0x7fd3c87022e0>]"
      ]
     },
     "execution_count": 26,
     "metadata": {},
     "output_type": "execute_result"
    },
    {
     "data": {
      "image/png": "[encoded data removed]",
      "text/plain": [
       "<Figure size 432x288 with 1 Axes>"
      ]
     },
     "metadata": {
      "needs_background": "light"
     },
     "output_type": "display_data"
    }
   ],
   "source": [
    "plt.plot(ave_df['temp_ave'])"
   ]
  },
  {
   "cell_type": "code",
   "execution_count": 27,
   "id": "ef7a70c6-e2d0-48dc-bb5f-7be61ae55681",
   "metadata": {},
   "outputs": [
    {
     "data": {
      "text/plain": [
       "[<matplotlib.lines.Line2D at 0x7fd3a85ca8e0>]"
      ]
     },
     "execution_count": 27,
     "metadata": {},
     "output_type": "execute_result"
    },
    {
     "data": {
      "image/png": "[encoded data removed]",
      "text/plain": [
       "<Figure size 432x288 with 1 Axes>"
      ]
     },
     "metadata": {
      "needs_background": "light"
     },
     "output_type": "display_data"
    }
   ],
   "source": [
    "plt.plot(ave_df['li_ave'])"
   ]
  },
  {
   "cell_type": "code",
   "execution_count": 28,
   "id": "87a1c907-a376-4166-ab49-259f1844e55f",
   "metadata": {},
   "outputs": [
    {
     "data": {
      "text/plain": [
       "[<matplotlib.lines.Line2D at 0x7fd3e853f1c0>]"
      ]
     },
     "execution_count": 28,
     "metadata": {},
     "output_type": "execute_result"
    },
    {
     "data": {
      "image/png": "[encoded data removed]",
      "text/plain": [
       "<Figure size 432x288 with 1 Axes>"
      ]
     },
     "metadata": {
      "needs_background": "light"
     },
     "output_type": "display_data"
    }
   ],
   "source": [
    "plt.plot(ave_df['ph'])"
   ]
  },
  {
   "cell_type": "code",
   "execution_count": 29,
   "id": "35881c63-e25c-48e4-9644-38048e97f009",
   "metadata": {},
   "outputs": [
    {
     "data": {
      "text/plain": [
       "[<matplotlib.lines.Line2D at 0x7fd3c87b1cd0>]"
      ]
     },
     "execution_count": 29,
     "metadata": {},
     "output_type": "execute_result"
    },
    {
     "data": {
      "image/png": "[encoded data removed]",
      "text/plain": [
       "<Figure size 432x288 with 1 Axes>"
      ]
     },
     "metadata": {
      "needs_background": "light"
     },
     "output_type": "display_data"
    }
   ],
   "source": [
    "plt.plot(ave_df['sm_ave'])"
   ]
  },
  {
   "cell_type": "markdown",
   "id": "0797d80c-7889-49ed-b45b-7e60888141ae",
   "metadata": {},
   "source": [
    "## Expected dict output:\n",
    "1. datetime\n",
    "2. exp_num (just copy)\n",
    "3. pred_ph \n",
    "4. pred_moisture\n",
    "5. sitename\n",
    "6. index"
   ]
  },
  {
   "cell_type": "markdown",
   "id": "f3330c14-60a3-4859-8661-c3259d076bca",
   "metadata": {},
   "source": [
    "## Train test split"
   ]
  },
  {
   "cell_type": "code",
   "execution_count": 30,
   "id": "90a5ae1d-4c5e-46ff-a664-cff47195227e",
   "metadata": {},
   "outputs": [
    {
     "name": "stdout",
     "output_type": "stream",
     "text": [
      "Train length: 523, Test length: 131\n"
     ]
    }
   ],
   "source": [
    "M,N = ave_df.shape\n",
    "\n",
    "X_cols = ave_cols[:-2]\n",
    "y_cols = ave_cols[-2:]\n",
    "\n",
    "# Train and test split\n",
    "train_percent = 0.8 # 80% of dataset goes to training\n",
    "\n",
    "train = ave_df.iloc[:int(M*train_percent),:]\n",
    "test = ave_df.iloc[int(M*train_percent):,:]\n",
    "\n",
    "print(f\"Train length: {train.shape[0]}, Test length: {test.shape[0]}\")"
   ]
  },
  {
   "cell_type": "code",
   "execution_count": 31,
   "id": "47b64d24-5819-4138-8d99-2230fdd24c7a",
   "metadata": {},
   "outputs": [],
   "source": [
    "X_train = train[X_cols]\n",
    "y_train = train[y_cols]\n",
    "\n",
    "X_test = test[X_cols]\n",
    "y_test = test[y_cols]"
   ]
  },
  {
   "cell_type": "code",
   "execution_count": 32,
   "id": "6815e81f-3ab7-411b-a786-a9fbdeb61122",
   "metadata": {},
   "outputs": [],
   "source": [
    "X_train, y_train = X_train.to_numpy(), y_train.to_numpy()\n",
    "X_test, y_test = X_test.to_numpy(), y_test.to_numpy()"
   ]
  },
  {
   "cell_type": "code",
   "execution_count": 33,
   "id": "134c35ee-d0d1-491e-891f-c5b6dbb45c13",
   "metadata": {},
   "outputs": [
    {
     "data": {
      "text/plain": [
       "<matplotlib.legend.Legend at 0x7fd3e855c6d0>"
      ]
     },
     "execution_count": 33,
     "metadata": {},
     "output_type": "execute_result"
    },
    {
     "data": {
      "image/png": "[encoded data removed]",
      "text/plain": [
       "<Figure size 720x216 with 1 Axes>"
      ]
     },
     "metadata": {
      "needs_background": "light"
     },
     "output_type": "display_data"
    }
   ],
   "source": [
    "plt.figure(figsize=(10,3))\n",
    "plt.xlabel(\"X[t]\")\n",
    "plt.ylabel(\"X[t+1]\")\n",
    "plt.title(\"X[t+1] vs X[t]\")\n",
    "\n",
    "plt.scatter(X_train[:,0], X_train[:,1], c='r', alpha=0.5, label='train')\n",
    "plt.scatter(X_test[:,0], X_test[:,1], c='g', alpha=0.5, label='test')\n",
    "\n",
    "plt.legend()"
   ]
  },
  {
   "cell_type": "code",
   "execution_count": 34,
   "id": "19804fe2-e4d2-469c-b468-cd618b89bbc3",
   "metadata": {},
   "outputs": [],
   "source": [
    "y_train_ph, y_train_sm = y_train[:,0], y_train[:,1]"
   ]
  },
  {
   "attachments": {},
   "cell_type": "markdown",
   "id": "3e2ff853-da5b-4020-bdb9-c2ddd3fbf233",
   "metadata": {},
   "source": [
    "## Extrapolation: SVR\n",
    "\n",
    "References:\n",
    "\n",
    "1. https://www.educba.com/support-vector-regression/\n",
    "2. https://towardsdatascience.com/an-introduction-to-support-vector-regression-svr-a3ebc1672c2\n",
    "3. SVR vs LR: https://towardsdatascience.com/support-vector-regression-svr-one-of-the-most-flexible-yet-robust-prediction-algorithms-4d25fbdaca60"
   ]
  },
  {
   "cell_type": "code",
   "execution_count": 35,
   "id": "ba5b681b-7d09-4a06-92fc-628d77bffc57",
   "metadata": {},
   "outputs": [],
   "source": [
    "from sklearn.svm import SVR\n",
    "\n",
    "from sklearn.metrics import mean_absolute_percentage_error # MAPE\n",
    "from sklearn.metrics import mean_squared_error # MSE"
   ]
  },
  {
   "cell_type": "code",
   "execution_count": 36,
   "id": "889f9a5b-09fb-486e-8e62-e149b14dc2d3",
   "metadata": {},
   "outputs": [
    {
     "data": {
      "text/plain": [
       "array([[0.58860759, 0.42731278, 0.66540154, 0.68113486],\n",
       "       [0.32911392, 0.42290749, 0.66738549, 0.61779912],\n",
       "       [0.30379747, 0.47026432, 0.67816786, 0.60673362],\n",
       "       [0.05696203, 0.71585903, 0.        , 0.0487104 ],\n",
       "       [0.06962025, 0.7092511 , 0.71551798, 0.04529662]])"
      ]
     },
     "execution_count": 36,
     "metadata": {},
     "output_type": "execute_result"
    }
   ],
   "source": [
    "scaler = MinMaxScaler()\n",
    "X_train_scaled = scaler.fit_transform(X_train)\n",
    "X_train_scaled[:5]"
   ]
  },
  {
   "cell_type": "code",
   "execution_count": 37,
   "id": "892c3a2a-239a-433c-be2f-a480f4e5ccf4",
   "metadata": {},
   "outputs": [
    {
     "data": {
      "text/plain": [
       "(array([24.25      , 39.5       ,  0.05208333,  0.69006744]),\n",
       " array([ 32.15      ,  84.9       , 603.85416667,   3.53544958]),\n",
       " array([0.12658228, 0.02202643, 0.00165617, 0.35144664]))"
      ]
     },
     "execution_count": 37,
     "metadata": {},
     "output_type": "execute_result"
    }
   ],
   "source": [
    "scaler.data_min_, scaler.data_max_, scaler.scale_"
   ]
  },
  {
   "cell_type": "code",
   "execution_count": 38,
   "id": "463bc85f-beb2-4cae-9d41-3800cbc89eb7",
   "metadata": {},
   "outputs": [],
   "source": [
    "svr = SVR()"
   ]
  },
  {
   "cell_type": "code",
   "execution_count": 39,
   "id": "cd87f823-8d3c-4c34-b177-977ceb2df56b",
   "metadata": {},
   "outputs": [
    {
     "data": {
      "text/plain": [
       "Pipeline(steps=[('minmaxscaler', MinMaxScaler()), ('svr', SVR())])"
      ]
     },
     "execution_count": 39,
     "metadata": {},
     "output_type": "execute_result"
    }
   ],
   "source": [
    "from sklearn.svm import SVR\n",
    "from sklearn.pipeline import make_pipeline\n",
    "from sklearn.preprocessing import MinMaxScaler\n",
    "\n",
    "regr = make_pipeline(MinMaxScaler(), SVR())\n",
    "regr.fit(X_train, y_train_ph)"
   ]
  },
  {
   "cell_type": "code",
   "execution_count": 40,
   "id": "748a6d53-52f9-4e42-9a6b-10d668c9ebea",
   "metadata": {},
   "outputs": [],
   "source": [
    "y_pred = regr.predict(X_test)"
   ]
  },
  {
   "cell_type": "code",
   "execution_count": 41,
   "id": "88e32fc6-add1-4314-a9f8-2f807fb7bfe6",
   "metadata": {},
   "outputs": [
    {
     "name": "stdout",
     "output_type": "stream",
     "text": [
      "1.3409645287932257 %\n"
     ]
    }
   ],
   "source": [
    "#np.mean((y_pred - y_test[:,0])**2)\n",
    "print(mean_absolute_percentage_error(y_pred, y_test[:,0]) * 100, \"%\") # get MAPE"
   ]
  },
  {
   "cell_type": "code",
   "execution_count": 42,
   "id": "47919e46-c105-4c1d-9e77-c8a18150f12d",
   "metadata": {},
   "outputs": [
    {
     "data": {
      "image/png": "[encoded data removed]",
      "text/plain": [
       "<Figure size 432x288 with 1 Axes>"
      ]
     },
     "metadata": {
      "needs_background": "light"
     },
     "output_type": "display_data"
    }
   ],
   "source": [
    "# plot lines\n",
    "plt.plot(y_pred, label = \"ph_pred\")\n",
    "plt.plot(y_test[:,0], label = \"ph_gt\")\n",
    "plt.legend()\n",
    "plt.show()"
   ]
  },
  {
   "cell_type": "markdown",
   "id": "0403a5b1-59f0-413f-acf6-47a9d69a800f",
   "metadata": {},
   "source": [
    "## saving model: https://machinelearningmastery.com/save-load-machine-learning-models-python-scikit-learn/"
   ]
  },
  {
   "cell_type": "markdown",
   "id": "ae8fc77e-fa6e-4a98-9e2a-e53f06a95e7e",
   "metadata": {},
   "source": [
    "## save model "
   ]
  },
  {
   "cell_type": "code",
   "execution_count": null,
   "id": "fffc1910-4de1-4add-89a7-0dbddc3930c4",
   "metadata": {},
   "outputs": [],
   "source": [
    "import pickle"
   ]
  },
  {
   "cell_type": "code",
   "execution_count": 44,
   "id": "efb5a495-006d-412d-8df2-528bed977b8b",
   "metadata": {},
   "outputs": [],
   "source": [
    "# save the model to disk\n",
    "filename = 'model_ph.sav'\n",
    "#pickle.dump(regr, open(filename, 'wb'))"
   ]
  },
  {
   "cell_type": "code",
   "execution_count": 46,
   "id": "b964d630-9644-4efe-b8df-f2e53e67f54f",
   "metadata": {},
   "outputs": [
    {
     "data": {
      "text/plain": [
       "['model_ph.sav']"
      ]
     },
     "execution_count": 46,
     "metadata": {},
     "output_type": "execute_result"
    }
   ],
   "source": [
    "import joblib\n",
    "joblib.dump(regr, filename)"
   ]
  },
  {
   "cell_type": "markdown",
   "id": "8d0f2186-5150-455d-913f-c0e5c66882dc",
   "metadata": {},
   "source": [
    "### soil moisture"
   ]
  },
  {
   "cell_type": "code",
   "execution_count": null,
   "id": "83b7d29c-b3fd-48f9-9d76-3374b783673a",
   "metadata": {},
   "outputs": [],
   "source": [
    "scaler = MinMaxScaler()\n",
    "X_train_scaled = scaler.fit_transform(X_train)\n",
    "X_train_scaled[:5]\n",
    "\n",
    "svr = SVR()"
   ]
  },
  {
   "cell_type": "code",
   "execution_count": 5,
   "id": "b15672c9-09ef-467f-91ad-66fac0d59489",
   "metadata": {},
   "outputs": [
    {
     "ename": "NameError",
     "evalue": "name 'X_train' is not defined",
     "output_type": "error",
     "traceback": [
      "\u001b[0;31m---------------------------------------------------------------------------\u001b[0m",
      "\u001b[0;31mNameError\u001b[0m                                 Traceback (most recent call last)",
      "\u001b[0;32m/var/folders/_3/_3lvg1mn51l2qnb3z5dd6xyw0000gn/T/ipykernel_28004/2971521252.py\u001b[0m in \u001b[0;36m<module>\u001b[0;34m\u001b[0m\n\u001b[1;32m      4\u001b[0m \u001b[0;34m\u001b[0m\u001b[0m\n\u001b[1;32m      5\u001b[0m \u001b[0mregr\u001b[0m \u001b[0;34m=\u001b[0m \u001b[0mmake_pipeline\u001b[0m\u001b[0;34m(\u001b[0m\u001b[0mMinMaxScaler\u001b[0m\u001b[0;34m(\u001b[0m\u001b[0;34m)\u001b[0m\u001b[0;34m,\u001b[0m \u001b[0mSVR\u001b[0m\u001b[0;34m(\u001b[0m\u001b[0;34m)\u001b[0m\u001b[0;34m)\u001b[0m\u001b[0;34m\u001b[0m\u001b[0;34m\u001b[0m\u001b[0m\n\u001b[0;32m----> 6\u001b[0;31m \u001b[0mregr\u001b[0m\u001b[0;34m.\u001b[0m\u001b[0mfit\u001b[0m\u001b[0;34m(\u001b[0m\u001b[0mX_train\u001b[0m\u001b[0;34m,\u001b[0m \u001b[0my_train_sm\u001b[0m\u001b[0;34m)\u001b[0m\u001b[0;34m\u001b[0m\u001b[0;34m\u001b[0m\u001b[0m\n\u001b[0m",
      "\u001b[0;31mNameError\u001b[0m: name 'X_train' is not defined"
     ]
    }
   ],
   "source": [
    "from sklearn.svm import SVR\n",
    "from sklearn.pipeline import make_pipeline\n",
    "from sklearn.preprocessing import MinMaxScaler\n",
    "\n",
    "regr = make_pipeline(MinMaxScaler(), SVR())\n",
    "regr.fit(X_train, y_train_sm)"
   ]
  },
  {
   "cell_type": "code",
   "execution_count": null,
   "id": "e150ea37-1ca2-48fe-9aa1-4da635b0eff5",
   "metadata": {},
   "outputs": [],
   "source": [
    "y_pred = regr.predict(X_test)"
   ]
  },
  {
   "cell_type": "code",
   "execution_count": null,
   "id": "2047d6c2-871c-43d3-94af-fc2a26ff6697",
   "metadata": {},
   "outputs": [],
   "source": [
    "#np.mean((y_pred - y_test[:,1])**2)\n",
    "\n",
    "print(mean_absolute_percentage_error(y_pred, y_test[:,1])*100,\"%\")"
   ]
  },
  {
   "cell_type": "code",
   "execution_count": 6,
   "id": "caa19871-35f1-4cbe-8f2e-2fd23e5b86b5",
   "metadata": {},
   "outputs": [
    {
     "ename": "NameError",
     "evalue": "name 'y_pred' is not defined",
     "output_type": "error",
     "traceback": [
      "\u001b[0;31m---------------------------------------------------------------------------\u001b[0m",
      "\u001b[0;31mNameError\u001b[0m                                 Traceback (most recent call last)",
      "\u001b[0;32m/var/folders/_3/_3lvg1mn51l2qnb3z5dd6xyw0000gn/T/ipykernel_28004/283248579.py\u001b[0m in \u001b[0;36m<module>\u001b[0;34m\u001b[0m\n\u001b[1;32m      1\u001b[0m \u001b[0;32mfrom\u001b[0m \u001b[0msklearn\u001b[0m\u001b[0;34m.\u001b[0m\u001b[0mmetrics\u001b[0m \u001b[0;32mimport\u001b[0m \u001b[0mmean_absolute_error\u001b[0m\u001b[0;34m\u001b[0m\u001b[0;34m\u001b[0m\u001b[0m\n\u001b[0;32m----> 2\u001b[0;31m \u001b[0mmean_absolute_error\u001b[0m\u001b[0;34m(\u001b[0m\u001b[0my_pred\u001b[0m\u001b[0;34m,\u001b[0m \u001b[0my_test\u001b[0m\u001b[0;34m[\u001b[0m\u001b[0;34m:\u001b[0m\u001b[0;34m,\u001b[0m\u001b[0;36m1\u001b[0m\u001b[0;34m]\u001b[0m\u001b[0;34m)\u001b[0m\u001b[0;34m\u001b[0m\u001b[0;34m\u001b[0m\u001b[0m\n\u001b[0m",
      "\u001b[0;31mNameError\u001b[0m: name 'y_pred' is not defined"
     ]
    }
   ],
   "source": [
    "from sklearn.metrics import mean_absolute_error\n",
    "mean_absolute_error(y_pred, y_test[:,1])"
   ]
  },
  {
   "cell_type": "code",
   "execution_count": null,
   "id": "2a75c6e5-b65a-4cf0-9c93-419140015e07",
   "metadata": {},
   "outputs": [],
   "source": [
    "\n",
    "mean_squared_error(y_pred, y_test[:,1])"
   ]
  },
  {
   "cell_type": "code",
   "execution_count": 7,
   "id": "ca491a1c-8860-4efd-9976-85a6d52b69c8",
   "metadata": {},
   "outputs": [
    {
     "ename": "NameError",
     "evalue": "name 'y_pred' is not defined",
     "output_type": "error",
     "traceback": [
      "\u001b[0;31m---------------------------------------------------------------------------\u001b[0m",
      "\u001b[0;31mNameError\u001b[0m                                 Traceback (most recent call last)",
      "\u001b[0;32m/var/folders/_3/_3lvg1mn51l2qnb3z5dd6xyw0000gn/T/ipykernel_28004/1094283722.py\u001b[0m in \u001b[0;36m<module>\u001b[0;34m\u001b[0m\n\u001b[1;32m      1\u001b[0m \u001b[0mmape_sum\u001b[0m \u001b[0;34m=\u001b[0m \u001b[0;36m0\u001b[0m\u001b[0;34m\u001b[0m\u001b[0;34m\u001b[0m\u001b[0m\n\u001b[1;32m      2\u001b[0m \u001b[0;34m\u001b[0m\u001b[0m\n\u001b[0;32m----> 3\u001b[0;31m \u001b[0;32mfor\u001b[0m \u001b[0my\u001b[0m\u001b[0;34m,\u001b[0m\u001b[0myhat\u001b[0m \u001b[0;32min\u001b[0m \u001b[0mzip\u001b[0m\u001b[0;34m(\u001b[0m\u001b[0my_pred\u001b[0m\u001b[0;34m,\u001b[0m \u001b[0my_test\u001b[0m\u001b[0;34m[\u001b[0m\u001b[0;34m:\u001b[0m\u001b[0;34m,\u001b[0m\u001b[0;36m1\u001b[0m\u001b[0;34m]\u001b[0m\u001b[0;34m)\u001b[0m\u001b[0;34m:\u001b[0m\u001b[0;34m\u001b[0m\u001b[0;34m\u001b[0m\u001b[0m\n\u001b[0m\u001b[1;32m      4\u001b[0m     \u001b[0mmape_sum\u001b[0m \u001b[0;34m+=\u001b[0m \u001b[0mnp\u001b[0m\u001b[0;34m.\u001b[0m\u001b[0mabs\u001b[0m\u001b[0;34m(\u001b[0m\u001b[0;34m(\u001b[0m\u001b[0myhat\u001b[0m\u001b[0;34m-\u001b[0m\u001b[0my\u001b[0m\u001b[0;34m)\u001b[0m\u001b[0;34m/\u001b[0m\u001b[0my\u001b[0m\u001b[0;34m)\u001b[0m\u001b[0;34m\u001b[0m\u001b[0;34m\u001b[0m\u001b[0m\n\u001b[1;32m      5\u001b[0m \u001b[0;34m\u001b[0m\u001b[0m\n",
      "\u001b[0;31mNameError\u001b[0m: name 'y_pred' is not defined"
     ]
    }
   ],
   "source": [
    "mape_sum = 0\n",
    "\n",
    "for y,yhat in zip(y_pred, y_test[:,1]):\n",
    "    mape_sum += np.abs((yhat-y)/y)\n",
    "\n",
    "mape_sum / len(y_pred) * 100"
   ]
  },
  {
   "cell_type": "code",
   "execution_count": null,
   "id": "fa52c424-53f1-4b80-9982-1905c55718d8",
   "metadata": {},
   "outputs": [],
   "source": [
    "# plot lines\n",
    "plt.plot(y_pred, label = \"sm_pred\")\n",
    "plt.plot(y_test[:,1], label = \"sm_gt\")\n",
    "plt.legend()\n",
    "plt.show()"
   ]
  }
 ],
 "metadata": {
  "kernelspec": {
   "display_name": "Python 3 (ipykernel)",
   "language": "python",
   "name": "python3"
  },
  "language_info": {
   "codemirror_mode": {
    "name": "ipython",
    "version": 3
   },
   "file_extension": ".py",
   "mimetype": "text/x-python",
   "name": "python",
   "nbconvert_exporter": "python",
   "pygments_lexer": "ipython3",
   "version": "3.9.7"
  }
 },
 "nbformat": 4,
 "nbformat_minor": 5
}
